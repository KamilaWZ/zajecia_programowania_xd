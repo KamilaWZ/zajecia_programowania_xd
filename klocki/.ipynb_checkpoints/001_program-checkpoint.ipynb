{
 "cells": [
  {
   "cell_type": "markdown",
   "id": "37cb1643",
   "metadata": {},
   "source": [
    "# #001 - Program\n",
    "\n",
    "Program jest jak każdy widzi.\n",
    "\n",
    "### Spis treści:\n",
    "\n",
    "#### Level 1\n",
    "1. Program\n",
    "2. Język programowania\n",
    "3. Przykładowy program\n",
    "4. Odpalanie programu w Jupyterze\n",
    "5. Odpalanie programu w Terminalu\n",
    "6. Jupyter - jeszcze kilka uwag\n",
    "7. Jak stworzyć nowy plik z programem (i jak go nazwać?)\n",
    "8. Inne\n",
    "9. Ćwiczenia\n",
    "\n",
    "#### Level 2\n",
    "1. Odpalanie programu z innego programu\n",
    "2. Zapisanie efektu działania programu jako plik.\n",
    "3. Odpalenie programu \"W tle\"\n",
    "4. Odpalanie programu z innego działającego programu\n",
    "5. Odpalanie programu będącego w komórce notatnika jupyter notebooka z innego pliku\n"
   ]
  },
  {
   "cell_type": "markdown",
   "id": "07270554",
   "metadata": {},
   "source": [
    "# Nie wiesz jak używać tych klocków?\n",
    "\n",
    "przeczytaj jeszcze raz znajdującą się w tym folderze **instrukcję działu: [klocki/README.md](https://github.com/ZPXD/zajecia_programowania_xd/tree/main/klocki)**.\n",
    "\n",
    "#### A jeżeli jeszcze nie miałeś okazji to:\n",
    "### Przejdź Szturm na AWS i wróć tu ponownie.\n",
    "To świetne doświadcznie no i będziesz gotowy aby na spokojnie rozpocząć zajęcia programowania.  **Zacznij [Szturm na AWS](https://discord.gg/Jd35hJf6ya) teraz**.\n",
    "\n",
    "### Już wszystko wiesz? Zaczynajmy."
   ]
  },
  {
   "cell_type": "markdown",
   "id": "055d7e8b",
   "metadata": {},
   "source": [
    "\n",
    "# Level 1"
   ]
  },
  {
   "cell_type": "markdown",
   "id": "c0847947",
   "metadata": {},
   "source": [
    "### 1. Program\n",
    "\n",
    "Program jest jak każdy widzi. \n",
    "\n",
    "Program to dowolny skrypt w którym znajduje się kod."
   ]
  },
  {
   "cell_type": "markdown",
   "id": "f88a6c05",
   "metadata": {},
   "source": [
    "### 2. Język programowania\n",
    "\n",
    "Język programowania."
   ]
  },
  {
   "cell_type": "markdown",
   "id": "f36110a8",
   "metadata": {},
   "source": [
    "## 3. Jak uruchomić przykładowy program napisany w języku Python w Jupyter?\n",
    "\n",
    "Widzisz komórkę poniżej? To jest program napisany w języku Python 3.\n",
    "\n",
    "Kliknij w nią i naciśnij **shift+enter**. \n",
    "\n",
    "Wyświetli sie efekt napisanego tam malutkiego programu."
   ]
  },
  {
   "cell_type": "code",
   "execution_count": 1,
   "id": "f9543468",
   "metadata": {},
   "outputs": [
    {
     "name": "stdout",
     "output_type": "stream",
     "text": [
      "Twój program zadziałał xD witamy na pokładzie.\n"
     ]
    }
   ],
   "source": [
    "# To prosty program xD\n",
    "zmienna = 'xD'\n",
    "print('Twój program zadziałał', zmienna, 'witamy na pokładzie.')"
   ]
  },
  {
   "cell_type": "markdown",
   "id": "567543f6",
   "metadata": {},
   "source": [
    "#### Co tu się zadziało? W telegraficznym skrócie:\n",
    "\n",
    "Funkcja print() wyświetliła zawartość swoich argumentów (trzech, oddzielonych przecinkami: tego pierwszego po nawiasie napisu, zmiennej i kolejnego napisu). Narazie się tym nie przejmuj, będziemy wszystko jeszcze omawiać w kolejnych zeszytach.\n",
    "\n",
    "Pierwszy program zadziałał. Odpalony w komórce Jupytera."
   ]
  },
  {
   "cell_type": "markdown",
   "id": "de7d88d3",
   "metadata": {},
   "source": [
    "## 4. Odpalanie programu w terminalu\n",
    "\n",
    "To w skrócie komenda python3 + nazwa programu, np:\n",
    "\n",
    "```\n",
    "python3 program.py\n",
    "```"
   ]
  },
  {
   "cell_type": "markdown",
   "id": "b2710ea9",
   "metadata": {},
   "source": [
    "#### Jednak aby to było możliwe, potrzeba najpierw zadbać o kilka rzeczy.\n",
    "\n",
    "Np. potrzeba tego programu program.py. \n",
    "\n",
    "#### Zakładam, że masz już to repozytorium pobrane u siebie.\n",
    "\n",
    "Jeżeli nie, przeczytaj jeszcze raz znajdującą się w tym folderze **instrukcję działu: [klocki/README.md](https://github.com/ZPXD/zajecia_programowania_xd/tree/main/klocki)**. \n",
    "\n",
    "\n",
    "#### A. Co jeszcze jest potrzebne? Potrzebujesz być w terminalu.\n",
    "Aby odpalić program w terminalu: otwórz terminal i wejdź do folderu gdzie ów program się znajduje."
   ]
  },
  {
   "cell_type": "markdown",
   "id": "7905dba0",
   "metadata": {},
   "source": [
    "**B. Potrzebujesz być w tym samym katalogu co Twój program.** (Albo znać jego ścieżkę.)\n",
    "\n",
    "Zakładam, że jesteś świeżo po ściągnięciu tego repozytorium i jesteś w katalogu **zajecia_programowania_xd/klocki**. Sprawdź to pisząc:"
   ]
  },
  {
   "cell_type": "markdown",
   "id": "4794044a",
   "metadata": {},
   "source": [
    "```\n",
    "pwd\n",
    "```"
   ]
  },
  {
   "cell_type": "markdown",
   "id": "6f377f8e",
   "metadata": {},
   "source": [
    "Zobaczysz w rezultacie ścieżkę **\"path\"**.  Np u mnie to: "
   ]
  },
  {
   "cell_type": "markdown",
   "id": "07a54212",
   "metadata": {},
   "source": [
    "```\n",
    "/home/luke/ZPXD/zajecia_programowania_xd/klocki\n",
    "```"
   ]
  },
  {
   "cell_type": "markdown",
   "id": "dd5044d5",
   "metadata": {},
   "source": [
    "Ścieżka reprezentuje miejsce w którym się znajdujesz w formie nazw folderów **\"directory\" (\"dir\")** wymienionych jeden po drugim od tego który jest pierwszy, przez wszystkie które się w nim zawierają aż do obecnego folderu. Wszystkie przedzielone znakiem '/'."
   ]
  },
  {
   "cell_type": "markdown",
   "id": "68e37dde",
   "metadata": {},
   "source": [
    "**C. Wpisać komendę uruchamiającą.**\n",
    "\n",
    "Jeżeli jesteś w folderze /costam/costam/zajecia_programowania_xd/klocki, to program odpalisz wpisując:"
   ]
  },
  {
   "cell_type": "markdown",
   "id": "c426a611",
   "metadata": {},
   "source": [
    "```\n",
    "python3 program.py\n",
    "```"
   ]
  },
  {
   "cell_type": "markdown",
   "id": "560371e6",
   "metadata": {},
   "source": [
    "Wyświetli Ci się w terminalu:"
   ]
  },
  {
   "cell_type": "markdown",
   "id": "be1d89f4",
   "metadata": {},
   "source": [
    "```\n",
    "Twój program zadziałał xD witamy na pokładzie.\n",
    "```"
   ]
  },
  {
   "cell_type": "markdown",
   "id": "86fc9fc7",
   "metadata": {},
   "source": [
    "**Przeanalizujmy komendę uruchamiającą:**\n",
    "\n",
    "- **python3** - uruchamia program napisany w Python3.\n",
    "- **nazwa_programu.py** - nazwa pliku (programu) który jest uruchamiany.\n",
    "- **.py** - plik skryptu w języku Python zawsze ma końcówkę .py - podobnie pliki javascript mają tam \".js\"."
   ]
  },
  {
   "cell_type": "markdown",
   "id": "2c4428a6",
   "metadata": {},
   "source": [
    "#### Czy można uruchomić program będąc w innym folderze? Tak.\n",
    "\n",
    "Wystarczy zamiast podawać samą nazwę programu wzbogacić ją o pełną lub wystarczającą ścieżkę.\n",
    "\n",
    "1. Zapisz ścieżkę w której jesteś. Napisz **pwd** i skopiuj rezultat.\n",
    "2. Przesuń się o katalog w górę tyłu: **cd ..**\n",
    "3. Uruchom porgram pisząc **python3 SCIEZKA/nazwa_programu.py** gdzie \"SCIEŻKA\" to skopiowany rezultat komendy pwd. W efekcie wyjdzie coś w tym stylu:\n"
   ]
  },
  {
   "cell_type": "markdown",
   "id": "b06fcc6a",
   "metadata": {},
   "source": [
    "```\n",
    "python3 /home/luke/ZPXD/zajecia_programowania_xd/klocki/program.py\n",
    "```\n"
   ]
  },
  {
   "cell_type": "markdown",
   "id": "6574b493",
   "metadata": {},
   "source": [
    "Ale nie trzeba pełnej ścieżki. Wystarczą ostatnie dwa: nazwa folderu z którego wyszliśmy i nazwa pliku:Wyświetli Ci się w terminalu:"
   ]
  },
  {
   "cell_type": "markdown",
   "id": "9d7d8d12",
   "metadata": {},
   "source": [
    "```\n",
    "python3 klocki/program.py\n",
    "```\n"
   ]
  },
  {
   "cell_type": "markdown",
   "id": "e6458382",
   "metadata": {},
   "source": [
    "Ścieżki nie podajesz od \"początku\" więc nie potrzebujesz zaczynać od \"/\"."
   ]
  },
  {
   "cell_type": "markdown",
   "id": "c89d172c",
   "metadata": {},
   "source": [
    "### Jupyter - jeszcze kilka uwag \n",
    "\n",
    "Jeszcze raz przypomnijmy sobie odpalanie programu w Jupyter\n",
    "\n",
    "Program odpalisz klikając w komórkę z kodem i naciskając równocześnie **shift+enter** lub **ctr+enter**"
   ]
  },
  {
   "cell_type": "code",
   "execution_count": 1,
   "id": "9e052d00",
   "metadata": {},
   "outputs": [
    {
     "name": "stdout",
     "output_type": "stream",
     "text": [
      "10\n"
     ]
    }
   ],
   "source": [
    "x = 10\n",
    "print(x)"
   ]
  },
  {
   "cell_type": "markdown",
   "id": "36a83752",
   "metadata": {},
   "source": [
    "**Dostępność pomiędzy komórkami.**\n",
    "\n",
    "A to co wypiszesz w jednej komórce jako zmienna, czy funkcja, o ile komórka zostanie odpalona, to jest dostępne w komórce poniżej. \n",
    "\n",
    "Zobacz sam - x to nadal 10:"
   ]
  },
  {
   "cell_type": "code",
   "execution_count": 6,
   "id": "d31075f5",
   "metadata": {},
   "outputs": [
    {
     "name": "stdout",
     "output_type": "stream",
     "text": [
      "Ala ma kota.\n"
     ]
    }
   ],
   "source": [
    "print(x)"
   ]
  },
  {
   "cell_type": "markdown",
   "id": "7afcb9ee",
   "metadata": {},
   "source": [
    "**Kod śmiało możesz modyfikować.**\n",
    "\n",
    "Pobaw się treścią zmiennej x w pierwszej linii kodu poniżej\n",
    "\n",
    "(czyli zmień napis przypisany do x, po znaku równa się, między apostrofami pierwszej linii). \n",
    "\n",
    "Zmieniaj treść i ponownie odpalaj program **shift+enter**. "
   ]
  },
  {
   "cell_type": "code",
   "execution_count": 2,
   "id": "0eaebb79",
   "metadata": {},
   "outputs": [
    {
     "name": "stdout",
     "output_type": "stream",
     "text": [
      "Twój napis ma 12 znaków.\n"
     ]
    }
   ],
   "source": [
    "x = 'Ala ma kota.'\n",
    "print('Twój napis ma', len(x), 'znaków.')"
   ]
  },
  {
   "cell_type": "markdown",
   "id": "d25ebdd1",
   "metadata": {},
   "source": [
    "#### Odpalanie WEWNĄTRZ zeszytów Jupytera programów zapisanych w innych plikach\n",
    "\n",
    "Zachodzi tak samo jak w terminalu, ale z wykrzyknikiem na początku:"
   ]
  },
  {
   "cell_type": "code",
   "execution_count": 3,
   "id": "bf961363",
   "metadata": {},
   "outputs": [
    {
     "name": "stdout",
     "output_type": "stream",
     "text": [
      "Twój program zadziałał xD witamy na pokładzie.\r\n"
     ]
    }
   ],
   "source": [
    "!python3 program.py"
   ]
  },
  {
   "cell_type": "code",
   "execution_count": 4,
   "id": "cec1e2a9",
   "metadata": {},
   "outputs": [
    {
     "name": "stdout",
     "output_type": "stream",
     "text": [
      "1\n"
     ]
    }
   ],
   "source": [
    "print(1)"
   ]
  },
  {
   "cell_type": "markdown",
   "id": "287466c4",
   "metadata": {},
   "source": [
    "#### Jupyter odpali też inne komendy. Spróbuj: pwd \n",
    "\n",
    "Napisze Ci w jakiej lokalizacji jesteś w linuxie. "
   ]
  },
  {
   "cell_type": "code",
   "execution_count": 5,
   "id": "ab9bb7bb",
   "metadata": {},
   "outputs": [
    {
     "data": {
      "text/plain": [
       "'/home/luke/ZPXD/zajecia_programowania_xd/klocki'"
      ]
     },
     "execution_count": 5,
     "metadata": {},
     "output_type": "execute_result"
    }
   ],
   "source": [
    "pwd"
   ]
  },
  {
   "cell_type": "markdown",
   "id": "e9cbc58b",
   "metadata": {},
   "source": [
    "**Spróbuj: ls -la** \n",
    "\n",
    "Wylistuje Ci pliki w **folderze w którym jesteś** *. \n",
    "\n",
    "\n",
    "\n",
    "**folder w którym jesteś** * -  dla programu, jeżeli nie jest zaprogramowane inaczej, zawsze domyślnie \"jesteś\" w folderze w którym znajduje się program. Będziemy jeszcze o tym mówić."
   ]
  },
  {
   "cell_type": "code",
   "execution_count": 8,
   "id": "136a7a9b",
   "metadata": {},
   "outputs": [
    {
     "name": "stdout",
     "output_type": "stream",
     "text": [
      "total 180\r\n",
      "drwxrwxr-x  3 luke luke  4096 Feb 11 12:14 \u001b[0m\u001b[01;34m.\u001b[0m/\r\n",
      "drwxrwxr-x 11 luke luke  4096 Feb 11 07:05 \u001b[01;34m..\u001b[0m/\r\n",
      "-rw-rw-r--  1 luke luke 43314 Feb 11 12:14 001_programYz.ipynb\r\n",
      "drwxrwxr-x  2 luke luke  4096 Feb 11 12:06 \u001b[01;34m.ipynb_checkpoints\u001b[0m/\r\n",
      "-rw-rw-r--  1 luke luke   106 Feb 11 06:44 program.py\r\n",
      "-rw-rw-r--  1 luke luke  3483 Feb 11 11:38 README.md\r\n",
      "-rw-rw-r--  1 luke luke    51 Feb 11 09:32 wynik_programu.txt\r\n",
      "-rw-rw-r--  1 luke luke 18009 Feb 11 09:27 xd.ipynb\r\n",
      "-rw-rw-r--  1 luke luke     1 Feb 11 09:47 xd.txt\r\n",
      "-rw-rw-r--  1 luke luke 15953 Feb 11 12:14 y-Copy1.ipynb\r\n",
      "-rw-rw-r--  1 luke luke  4900 Feb 11 12:06 y.ipynb\r\n"
     ]
    }
   ],
   "source": [
    "ls -la"
   ]
  },
  {
   "cell_type": "markdown",
   "id": "4de92f26",
   "metadata": {},
   "source": [
    "Na początek starczy. \n",
    "\n",
    "Jeżeli chcesz lepiej poruszać się po Linuxie, poznać i łatwo stosować więcej komend oraz lepiej go poznać, wejdź na link który tu będzie w przyszłości."
   ]
  },
  {
   "cell_type": "markdown",
   "id": "82ccb1cf",
   "metadata": {},
   "source": [
    "## 7. Jak stworzyć nowy plik z programem (i jak go nazwać?)"
   ]
  },
  {
   "cell_type": "markdown",
   "id": "acf29f1a",
   "metadata": {},
   "source": [
    "#### Jak nazywać program?\n",
    "\n",
    "- zaczynający się od litery\n",
    "- bez spacji i znaków specjalnych poza \"_\" (tzw. \"podłoga\", \"undescore\", \"podkreślnik\")\n",
    "- ale wstawiając \"_\" tam gdzie normalnie użył byś spacji\n",
    "- najlepiej z małych liter"
   ]
  },
  {
   "cell_type": "markdown",
   "id": "a21f9b92",
   "metadata": {},
   "source": [
    "#### Jak utworzyć program?\n",
    "\n",
    "Trzymaj się zasad nazewnictwa i zapisz plik z ponad 1 linijką poprawnego kodu (np. \"print('xd')\") tak aby miał końcówkę **.py**. Gotowe. Program stworzony.\n",
    "\n",
    "**A. W notatniku VSC** zrobisz to łatwo np. po prostu klikając w \"plik\" i \"utwórz nowy\"."
   ]
  },
  {
   "cell_type": "markdown",
   "id": "0e501dc0",
   "metadata": {},
   "source": [
    "#### B. W terminalu np. jeżeli masz nano i umiesz w nim pisać to przez:\n"
   ]
  },
  {
   "cell_type": "code",
   "execution_count": null,
   "id": "fe3164ee",
   "metadata": {},
   "outputs": [],
   "source": [
    "nano nazwa_programu.py"
   ]
  },
  {
   "cell_type": "markdown",
   "id": "71e72844",
   "metadata": {},
   "source": [
    "#### C. A jeżeli jeszcze nie masz notatnika ani nano ani VSC ale jesteś już na serwerze Ubuntu\n",
    "\n",
    "to możesz po prostu dynamicznie utworzyć plik pisząc:"
   ]
  },
  {
   "cell_type": "code",
   "execution_count": null,
   "id": "b94ed45f",
   "metadata": {},
   "outputs": [],
   "source": [
    "echo \"print('xD')\" > nazwa_programu.py"
   ]
  },
  {
   "cell_type": "markdown",
   "id": "148f2b91",
   "metadata": {},
   "source": [
    "#### Pssst! Łap jeszcze to, kiedyś może się przydać: funkcja help()\n",
    "\n",
    "Powie Ci co robi część kodu którą tam wsadzisz (jedna np. zmienna, funkcja, metoda czy część składni). Narazie z tego nie korzystaj, bo to wymaga trochę obeznania z Pythonem, ale za pare dni kto wie. Przyda się na potem. Zobacz jak to działa."
   ]
  },
  {
   "cell_type": "code",
   "execution_count": null,
   "id": "a07b445d",
   "metadata": {},
   "outputs": [],
   "source": [
    "help()"
   ]
  },
  {
   "cell_type": "markdown",
   "id": "e73c3dff",
   "metadata": {},
   "source": [
    "Dowolną rzecz jaka Cię zainteresuje możesz zawsze umieścić między nawiasami jako argument funkcji help(). Zobaczysz wtedy techniczny opis."
   ]
  },
  {
   "cell_type": "code",
   "execution_count": null,
   "id": "42b7b1c3",
   "metadata": {},
   "outputs": [],
   "source": [
    "help( print)"
   ]
  },
  {
   "cell_type": "markdown",
   "id": "4f6ba5c2",
   "metadata": {},
   "source": [
    "### Ćwiczenia\n",
    "\n",
    "1. Uruchom program.py  jeszcze kilka razy dla wprawy :))))\n",
    "2. Dodaj jeszcze jedną linię kodu :))) skopiuj linię drugą do trzeciej, spróbuj ją modyfikować. I uruchom parę razy. \n",
    "3. Stwórz w tym notatniku nową komórkę z miejscem na kod. Napisz tam print('xD') i odpal.\n",
    "4. Stwórz nowy program o nazwie moj_program.py. W programie wykorzystaj poznaną wcześniej funkcję print() ale jako jej argument, wstaw 'Siema'.\n",
    "5. Uruchom Twój program. Pamiętaj, że ma inną nazwę.\n",
    "6. Sprawdź ścieżkę miejsca w którym teraz jesteś. Wyjdź z folderu gdzie jesteś do folderu wyżej. (napisz 'cd ..' w terminalu, cofnie Cię do katalogu \"wyżej\") i uruchom swój program z tego miejsca pisząć python3 + rezultat tego co dała użyta przed komenda \"pwd\" + nazwa Twojego programu, czyli \"/moj_program.py\"\n",
    "\n",
    "\n",
    "Jeżeli coś Ci nie idzie, leć na dział #pomoc na discordzie. Pomożemy Ci."
   ]
  },
  {
   "cell_type": "markdown",
   "id": "f05e132a",
   "metadata": {},
   "source": [
    "\n",
    "## O ile nie wymiatasz, to tyle. Leć dalej do kolejnego klocka.\n",
    "\n",
    "Jeżeli jesteś nowy w programowaniu oraz jesteś tu pierwszy raz, to ten materiał to wszystko czego narazie Ci trzeba. Przejdź do kolejnego klocku :) a tu wróć potem w ramach powtórki i poszerzenia wiedzy i umiejętności.\n",
    "\n",
    "#### Ale jak ogarniesz już kilka / kilkanaście klocków to wróć i zobacz też:\n",
    "\n",
    "\n",
    "\n",
    "\n",
    "\n",
    "# Level 2"
   ]
  },
  {
   "cell_type": "markdown",
   "id": "88f7cca0",
   "metadata": {},
   "source": [
    "### 1. Odpalanie programu przez inny skrypt\n",
    "\n",
    "Uruchom program x w programie y.\n",
    "\n",
    "To będzie potem. Dobrym przykładem tego będzie klocek 7 - importy."
   ]
  },
  {
   "cell_type": "code",
   "execution_count": null,
   "id": "f397e5bb",
   "metadata": {},
   "outputs": [],
   "source": [
    "print('Tu będzie przykład.')"
   ]
  },
  {
   "cell_type": "markdown",
   "id": "9a90b61b",
   "metadata": {},
   "source": [
    "### 2. Odpalanie programu przez inny działający program\n",
    "\n",
    "Np. Cron, Systemd, Nginx.\n",
    "\n",
    "To będzie potem."
   ]
  },
  {
   "cell_type": "code",
   "execution_count": null,
   "id": "9e81db2c",
   "metadata": {},
   "outputs": [],
   "source": [
    "print('Tu będzie przykład.')"
   ]
  },
  {
   "cell_type": "markdown",
   "id": "49c2e190",
   "metadata": {},
   "source": [
    "### 3. Zapisanie efektu działania programu jako plik\n",
    "\n",
    "Odpalp program jak zawsze ale dalej dodaj dziubek i nazwę (lub ścieżkę) do pliku w którym chcesz zapisać efekt działania programu. Wpisz:"
   ]
  },
  {
   "cell_type": "code",
   "execution_count": null,
   "id": "8b0bc5da",
   "metadata": {},
   "outputs": [],
   "source": [
    "!python3 program.py > wynik_programu.txt"
   ]
  },
  {
   "cell_type": "markdown",
   "id": "4ecd702f",
   "metadata": {},
   "source": [
    "I wyświetl zawartość nowoutworzonego pliku:"
   ]
  },
  {
   "cell_type": "code",
   "execution_count": null,
   "id": "4ae513cd",
   "metadata": {},
   "outputs": [],
   "source": [
    "cat wynik_programu.txt"
   ]
  },
  {
   "cell_type": "markdown",
   "id": "792eea88",
   "metadata": {},
   "source": [
    "### 4. Odpalenie programu \"W tle\"\n",
    "\n",
    "#### a. odpalenie programu w tle.\n",
    "\n",
    "To będzie potem. Dla umiejących w wyłączanie programu tylko.\n",
    "\n",
    "#### b. zamknięcie programu odpalnoego w tle.\n",
    "\n",
    "To będzie potem.\n"
   ]
  },
  {
   "cell_type": "markdown",
   "id": "4c09d133",
   "metadata": {},
   "source": [
    "### 5. Odpalanie programu z komórki notatnika jupyter notebooka z innego miesjca\n",
    "\n",
    "\n",
    "To będzie potem."
   ]
  },
  {
   "cell_type": "markdown",
   "id": "31c5a370",
   "metadata": {},
   "source": [
    "# Inne / notatki / pomysły:\n",
    "\n",
    "Narazie w tym temacie to wszystko. Jak będę miał jakieś dodatkowe pomysły, to dodam je tutaj.\n",
    "\n",
    "### Do zrobienia:\n",
    "- Jest kilka rzeczy do uzupełnienia.\n",
    "- Chciał bym dodać więcej wiedzy i linków do niej w osobnych dokumentach."
   ]
  },
  {
   "cell_type": "code",
   "execution_count": null,
   "id": "35a56713",
   "metadata": {},
   "outputs": [],
   "source": []
  }
 ],
 "metadata": {
  "kernelspec": {
   "display_name": "Python 3 (ipykernel)",
   "language": "python",
   "name": "python3"
  },
  "language_info": {
   "codemirror_mode": {
    "name": "ipython",
    "version": 3
   },
   "file_extension": ".py",
   "mimetype": "text/x-python",
   "name": "python",
   "nbconvert_exporter": "python",
   "pygments_lexer": "ipython3",
   "version": "3.9.9"
  }
 },
 "nbformat": 4,
 "nbformat_minor": 5
}
